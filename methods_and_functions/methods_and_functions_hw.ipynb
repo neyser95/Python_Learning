{
 "cells": [
  {
   "cell_type": "code",
   "execution_count": 60,
   "metadata": {},
   "outputs": [],
   "source": [
    "\n",
    "# Write a function that computes the volume of a sphere given its radius.\n",
    "import math;\n",
    "\n",
    "def vol (rad):\n",
    "    return (4/3) * math.pi * (rad**3);\n"
   ]
  },
  {
   "cell_type": "code",
   "execution_count": 61,
   "metadata": {},
   "outputs": [
    {
     "name": "stdout",
     "output_type": "stream",
     "text": [
      "33.510321638291124\n"
     ]
    }
   ],
   "source": [
    "print(vol(2));"
   ]
  },
  {
   "cell_type": "code",
   "execution_count": 21,
   "metadata": {},
   "outputs": [],
   "source": [
    "# Write a function that checks whether a number is in a given range\n",
    "def ran_check(num, low, high):\n",
    "    return low <= num <= high;"
   ]
  },
  {
   "cell_type": "code",
   "execution_count": 18,
   "metadata": {},
   "outputs": [
    {
     "name": "stdout",
     "output_type": "stream",
     "text": [
      "True\n"
     ]
    }
   ],
   "source": [
    "print(ran_check(3, 1, 10))"
   ]
  },
  {
   "cell_type": "code",
   "execution_count": 20,
   "metadata": {},
   "outputs": [],
   "source": [
    "# Write a Python function that accepts a string and calculates the number of upper case letters and lower case letters.\n",
    "\n",
    "def up_low(string):\n",
    "    upper = 0;\n",
    "    lower = 0;\n",
    "\n",
    "    for char in string:\n",
    "        if char.isupper():\n",
    "            upper += 1;\n",
    "        elif char.islower():\n",
    "            lower +=1;\n",
    "        else:\n",
    "            pass\n",
    "\n",
    "    print(f'number of uppercase letters: {upper}');\n",
    "    print(f'number of lowercase letters: {lower}');"
   ]
  },
  {
   "cell_type": "code",
   "execution_count": 62,
   "metadata": {},
   "outputs": [
    {
     "name": "stdout",
     "output_type": "stream",
     "text": [
      "number of uppercase letters: 4\n",
      "number of lowercase letters: 33\n",
      "None\n"
     ]
    }
   ],
   "source": [
    "print(up_low('Hello Mr. Rogers, how are you this fine Tuesday?'))"
   ]
  },
  {
   "cell_type": "code",
   "execution_count": 28,
   "metadata": {},
   "outputs": [],
   "source": [
    "# Write a Python function that takes a list and returns a new list with unique elements of the first list.\n",
    "\n",
    "def unique_list(list):\n",
    "    new_list = [];\n",
    "\n",
    "    for l in list:\n",
    "        if l not in new_list:\n",
    "            new_list.append(l);\n",
    "\n",
    "    return new_list;"
   ]
  },
  {
   "cell_type": "code",
   "execution_count": 29,
   "metadata": {},
   "outputs": [
    {
     "name": "stdout",
     "output_type": "stream",
     "text": [
      "[1, 2, 3, 4, 5]\n"
     ]
    }
   ],
   "source": [
    "print(unique_list([1,1,1,1,2,2,3,3,3,3,4,5]))"
   ]
  },
  {
   "cell_type": "code",
   "execution_count": 35,
   "metadata": {},
   "outputs": [],
   "source": [
    "# Write a Python function to multiply all the numbers in a list.\n",
    "def multiply(numbers):\n",
    "    total = numbers[0]\n",
    "\n",
    "    for n in numbers[1:]:\n",
    "        total *= n\n",
    "\n",
    "    return total"
   ]
  },
  {
   "cell_type": "code",
   "execution_count": 63,
   "metadata": {},
   "outputs": [
    {
     "name": "stdout",
     "output_type": "stream",
     "text": [
      "-240\n"
     ]
    }
   ],
   "source": [
    "print(multiply([1,2,3,-4,10]))"
   ]
  },
  {
   "cell_type": "code",
   "execution_count": 45,
   "metadata": {},
   "outputs": [],
   "source": [
    "def palindrome(string):\n",
    "    str = string.replace(\" \", \"\")\n",
    "    return str == str[::-1]\n"
   ]
  },
  {
   "cell_type": "code",
   "execution_count": 46,
   "metadata": {},
   "outputs": [
    {
     "name": "stdout",
     "output_type": "stream",
     "text": [
      "True\n",
      "False\n"
     ]
    }
   ],
   "source": [
    "print(palindrome('helleh'))\n",
    "print(palindrome('hell'))"
   ]
  },
  {
   "cell_type": "code",
   "execution_count": 66,
   "metadata": {},
   "outputs": [],
   "source": [
    "import string\n",
    "\n",
    "def ispangram(str, alphabet = string.ascii_lowercase):\n",
    "    str_set = set(str.replace(\" \", \"\").lower())\n",
    "    alpha_set = set(alphabet)\n",
    "\n",
    "    return str_set == alpha_set"
   ]
  },
  {
   "cell_type": "code",
   "execution_count": 70,
   "metadata": {},
   "outputs": [
    {
     "name": "stdout",
     "output_type": "stream",
     "text": [
      "True\n"
     ]
    }
   ],
   "source": [
    "print(ispangram(\"The quick brown fox jumps over the lazy dog\"))"
   ]
  },
  {
   "cell_type": "code",
   "execution_count": null,
   "metadata": {},
   "outputs": [],
   "source": []
  }
 ],
 "metadata": {
  "kernelspec": {
   "display_name": "Python 3.10.1 64-bit",
   "language": "python",
   "name": "python3"
  },
  "language_info": {
   "codemirror_mode": {
    "name": "ipython",
    "version": 3
   },
   "file_extension": ".py",
   "mimetype": "text/x-python",
   "name": "python",
   "nbconvert_exporter": "python",
   "pygments_lexer": "ipython3",
   "version": "3.10.1"
  },
  "orig_nbformat": 4,
  "vscode": {
   "interpreter": {
    "hash": "5e6dd98f37bb61f918b553047b919309d35c445c90b6dc24796407aa627462ce"
   }
  }
 },
 "nbformat": 4,
 "nbformat_minor": 2
}
